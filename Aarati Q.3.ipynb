{
 "cells": [
  {
   "cell_type": "markdown",
   "id": "099cc852",
   "metadata": {},
   "source": [
    "# Q3. Singular Value Decomposition (SVD):\n",
    "Perform Singular Value Decomposition on the matrix A obtained in Question 2. Separate and print matrices U, Σ, and V.Verify that A equals the product of U, Σ, and 𝑉. Additionally, find the rank 2 and rank 3 approximations of matrix A.\n",
    "\n"
   ]
  },
  {
   "cell_type": "code",
   "execution_count": 3,
   "id": "17ccf933",
   "metadata": {},
   "outputs": [],
   "source": [
    "import numpy as np\n",
    "np.random.seed(60)\n",
    "A = np.random.randint(0, 10, size=(5, 5))"
   ]
  },
  {
   "cell_type": "code",
   "execution_count": 4,
   "id": "f4f3e45f",
   "metadata": {},
   "outputs": [
    {
     "name": "stdout",
     "output_type": "stream",
     "text": [
      "Matrix U:\n",
      "[[-0.55898614 -0.33431486 -0.0128476  -0.06776356  0.75565277]\n",
      " [-0.41666458 -0.37737864  0.62726318  0.31673503 -0.43611445]\n",
      " [-0.40277372  0.80293318  0.3658017  -0.23978454  0.04200155]\n",
      " [-0.26158423 -0.26824743 -0.19174982 -0.81950082 -0.38893113]\n",
      " [-0.53223317  0.17076463 -0.6601492   0.40744178 -0.29285069]]\n",
      "\n",
      "Matrix Sigma:\n",
      "[[24.24434244  0.          0.          0.          0.        ]\n",
      " [ 0.          7.83724526  0.          0.          0.        ]\n",
      " [ 0.          0.          4.15210728  0.          0.        ]\n",
      " [ 0.          0.          0.          3.58215939  0.        ]\n",
      " [ 0.          0.          0.          0.          0.84710418]]\n",
      "\n",
      "Matrix V:\n",
      "[[-0.14488691  0.35299106  0.49611541 -0.72273525 -0.29313537]\n",
      " [-0.3916012  -0.1877483  -0.72507764 -0.53195114  0.05186022]\n",
      " [-0.35097721  0.77421719 -0.10735783  0.17861258  0.48370919]\n",
      " [-0.63437624  0.02980245 -0.00812131  0.40333299 -0.65873754]\n",
      " [-0.54775731 -0.48974222  0.46533886 -0.01008883  0.49342927]]\n"
     ]
    }
   ],
   "source": [
    "# Perform Singular Value Decomposition (SVD)\n",
    "U,Sigma,V_transpose = np.linalg.svd(A)\n",
    "Sigma_mat = np.zeros_like(A, dtype=float)\n",
    "Sigma_mat[:min(A.shape[0], A.shape[1]), :min(A.shape[0], A.shape[1])] = np.diag(Sigma)\n",
    "print(\"Matrix U:\")\n",
    "print(U)\n",
    "print(\"\\nMatrix Sigma:\")\n",
    "print(Sigma_mat)\n",
    "print(\"\\nMatrix V:\")\n",
    "print(V_transpose.T)"
   ]
  },
  {
   "cell_type": "code",
   "execution_count": 6,
   "id": "7c4617e9",
   "metadata": {},
   "outputs": [
    {
     "name": "stdout",
     "output_type": "stream",
     "text": [
      "Verification that A equals the product of U, Sigma, and V:\n",
      "True\n"
     ]
    }
   ],
   "source": [
    "A_reconstructed = np.dot(U, np.dot(Sigma_mat, V_transpose))\n",
    "print(\"Verification that A equals the product of U, Sigma, and V:\")\n",
    "print(np.allclose(A, A_reconstructed))"
   ]
  },
  {
   "cell_type": "code",
   "execution_count": null,
   "id": "5767a393",
   "metadata": {},
   "outputs": [],
   "source": []
  }
 ],
 "metadata": {
  "kernelspec": {
   "display_name": "Python 3 (ipykernel)",
   "language": "python",
   "name": "python3"
  },
  "language_info": {
   "codemirror_mode": {
    "name": "ipython",
    "version": 3
   },
   "file_extension": ".py",
   "mimetype": "text/x-python",
   "name": "python",
   "nbconvert_exporter": "python",
   "pygments_lexer": "ipython3",
   "version": "3.11.5"
  }
 },
 "nbformat": 4,
 "nbformat_minor": 5
}
